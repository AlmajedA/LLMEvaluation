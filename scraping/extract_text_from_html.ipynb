{
 "cells": [
  {
   "cell_type": "code",
   "execution_count": 1,
   "metadata": {},
   "outputs": [
    {
     "name": "stdout",
     "output_type": "stream",
     "text": [
      "                                                  text\n",
      "121  \\n\\n\\n\\n\\n\\n\\n\\n\\n\\n\\n\\n\\n\\n\\nResidence visa f...\n",
      "282  \\n\\n\\n\\n\\n\\n\\n\\n\\n\\n\\n\\n\\n\\n\\nGuidelines for o...\n",
      "460  \\n\\n\\n\\n\\n\\n\\n\\n\\n\\n\\n\\n\\n\\n\\nMaintaining safe...\n",
      "437  \\n\\n\\n\\n\\n\\n\\n\\n\\n\\n\\n\\n\\n\\n\\nJoining higher e...\n",
      "193  \\n\\n\\n\\n\\n\\n\\n\\n\\n\\n\\n\\n\\n\\n\\nWhat to do in th...\n"
     ]
    }
   ],
   "source": [
    "from bs4 import BeautifulSoup\n",
    "import os\n",
    "import re\n",
    "import pandas as pd\n",
    "\n",
    "def extract_text_from_html(file_path):\n",
    "    with open(file_path, 'r', encoding='utf-8') as file:\n",
    "        soup = BeautifulSoup(file, 'html.parser')\n",
    "        text = soup.get_text()\n",
    "        # Keep only English letters (and spaces)\n",
    "        filtered_text = re.sub(r'[^A-Za-z\\s]', '', text)\n",
    "        return filtered_text\n",
    "\n",
    "def save_texts_to_pkl(texts, output_file):\n",
    "    df = pd.DataFrame(texts, columns=[\"text\"])\n",
    "    df.to_pickle(output_file)\n",
    "\n",
    "html_directory = 'scraped_content'\n",
    "texts = []\n",
    "\n",
    "for filename in os.listdir(html_directory):\n",
    "    if filename.endswith('.html'):\n",
    "        file_path = os.path.join(html_directory, filename)\n",
    "        text = extract_text_from_html(file_path)\n",
    "        texts.append(text)\n",
    "\n",
    "output_pkl_file = '../backend/app/scripts/extracted_texts.pkl'\n",
    "save_texts_to_pkl(texts, output_pkl_file)\n",
    "\n",
    "# Load the pickle file into a DataFrame and display samples\n",
    "df = pd.read_pickle(output_pkl_file)\n",
    "sample_size = 5  # Number of samples to display\n",
    "print(df.sample(n=sample_size))\n"
   ]
  }
 ],
 "metadata": {
  "kernelspec": {
   "display_name": ".venv",
   "language": "python",
   "name": "python3"
  },
  "language_info": {
   "codemirror_mode": {
    "name": "ipython",
    "version": 3
   },
   "file_extension": ".py",
   "mimetype": "text/x-python",
   "name": "python",
   "nbconvert_exporter": "python",
   "pygments_lexer": "ipython3",
   "version": "3.10.0"
  }
 },
 "nbformat": 4,
 "nbformat_minor": 2
}
